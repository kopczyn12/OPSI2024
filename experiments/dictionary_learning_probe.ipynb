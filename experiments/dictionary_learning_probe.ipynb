{
 "cells": [
  {
   "cell_type": "markdown",
   "metadata": {},
   "source": [
    "# Problem statement\n",
    "\n",
    "## The experiment focuses on testing the Dictionary Learning method on a single image to do a placeholder test and use it later in pipeline"
   ]
  },
  {
   "cell_type": "markdown",
   "metadata": {},
   "source": [
    "## Imports"
   ]
  },
  {
   "cell_type": "code",
   "execution_count": null,
   "metadata": {},
   "outputs": [],
   "source": [
    "import sys\n",
    "sys.path.append('.')\n",
    "sys.path.append('..')\n",
    "from utils.noise_generation import add_noise_and_save\n",
    "from utils.denoising_algorithms import denoise_image_with_dictionary_learning\n",
    "from utils.metrics import calculate_metrics\n",
    "import os\n",
    "from skimage import io"
   ]
  },
  {
   "cell_type": "markdown",
   "metadata": {},
   "source": [
    "## Constants and handling"
   ]
  },
  {
   "cell_type": "code",
   "execution_count": null,
   "metadata": {},
   "outputs": [],
   "source": [
    "# Change the current working directory to one level up from the current directory.\n",
    "# This is often used in notebook environments like Jupyter to navigate the file system.\n",
    "%cd ../\n",
    "\n",
    "# Retrieve the current working directory, which is now set to the parent directory of the previous one.\n",
    "# The HOME variable is used as a reference point in the file system to build paths relative to the project's root.\n",
    "HOME = os.getcwd()\n",
    "\n",
    "# Change the directory to the 'experiments' subdirectory from the current location.\n",
    "# This is typically done to ensure that the execution context is correctly set for subsequent operations,\n",
    "# especially when the code is dependent on the working directory.\n",
    "%cd experiments\n",
    "\n",
    "# Configure the path settings for the image processing task:\n",
    "\n",
    "# image_directory: Specifies the path to the directory containing the original images to be processed.\n",
    "# It is constructed dynamically using the HOME variable to ensure the path is adaptable to different environments.\n",
    "image_directory = os.path.join(HOME, 'data/original_photos')\n",
    "\n",
    "# main_folder: Defines the main directory where processed images (noisy images in this case) will be stored.\n",
    "# Like image_directory, it is built using the HOME variable, allowing flexibility in the file structure.\n",
    "main_folder = os.path.join(HOME, 'data')\n",
    "\n",
    "# noise_type: A string that specifies the type of noise to be applied to the images. This is used to\n",
    "# differentiate between various noise application methods and to store the resulting images accordingly.\n",
    "noise_type = 'gaussian'\n",
    "\n",
    "# noise_image_directory: The directory where the noisy images will be saved. It is structured to organize\n",
    "# images by the type of noise applied, aiding in the systematic storage and retrieval of processed images.\n",
    "noise_image_directory = os.path.join(HOME, f'data/noise_photos/{noise_type}')\n",
    "\n",
    "# variance: A floating-point value that specifies the intensity of the noise to be added to the images.\n",
    "# This parameter can directly affect the visual characteristics of the resultant noisy images.\n",
    "variance = 0.1\n",
    "\n",
    "# n_components: Specifies the number of principal components to be retained in the PCA process when\n",
    "# denoising the images. It plays a critical role in determining the balance between noise removal and\n",
    "# detail preservation in the denoised images.\n",
    "n_components = 500\n"
   ]
  },
  {
   "cell_type": "markdown",
   "metadata": {},
   "source": [
    "## Add to images noise and save them"
   ]
  },
  {
   "cell_type": "code",
   "execution_count": null,
   "metadata": {},
   "outputs": [],
   "source": [
    "# Loop through all files in the specified directory\n",
    "for filename in os.listdir(image_directory):\n",
    "    # Construct the full file path\n",
    "    file_path = os.path.join(image_directory, filename)\n",
    "    # Check if the file is an image\n",
    "    if file_path.lower().endswith(('.png', '.jpg', '.jpeg')):\n",
    "        # Apply the noise and save the image\n",
    "        add_noise_and_save(file_path, main_folder, noise_type, variance)\n",
    "        print(f\"Processed {filename}\")"
   ]
  },
  {
   "cell_type": "markdown",
   "metadata": {},
   "source": [
    "## Denoise previously noised images using Dictionary Learning"
   ]
  },
  {
   "cell_type": "code",
   "execution_count": null,
   "metadata": {},
   "outputs": [],
   "source": [
    "# Iterate through each file in the specified directory.\n",
    "# This loop is designed to process each file found in the directory where the noisy images are stored.\n",
    "for filename in os.listdir(noise_image_directory):\n",
    "    # Construct the full path to the file by combining the directory path with the filename.\n",
    "    # This provides a complete path to access the file for processing.\n",
    "    file_path = os.path.join(noise_image_directory, filename)\n",
    "    # Check if the current file is an image, specifically looking for common image file extensions.\n",
    "    # This ensures that the script only attempts to process image files, ignoring others.\n",
    "    if file_path.lower().endswith(('.png', '.jpg', '.jpeg')):\n",
    "        # Load the image in grayscale, which simplifies the PCA process by reducing the data complexity.\n",
    "        # This is a common approach when applying PCA for denoising, as it works on a single channel.\n",
    "        image = io.imread(file_path, as_gray=True)\n",
    "        print(f\"Image shape: {image.shape}\")\n",
    "        # Attempt to apply PCA denoising to the image, encapsulated in a try-except block to handle potential errors.\n",
    "        try:\n",
    "            denoise_image_with_dictionary_learning(file_path, main_folder, noise_type, variance, n_components)\n",
    "            print(f\"Denoising completed for {filename}\")  # Indicate successful denoising of the image.\n",
    "        except ValueError as e:\n",
    "            # Catch and report any errors encountered during the denoising process, typically related to PCA parameters.\n",
    "            print(f\"Error processing {filename}: {e}\")\n"
   ]
  },
  {
   "cell_type": "markdown",
   "metadata": {},
   "source": [
    "## Metrics calculation and algorithm evaluation"
   ]
  },
  {
   "cell_type": "code",
   "execution_count": null,
   "metadata": {},
   "outputs": [],
   "source": [
    "ssim, psnr = calculate_metrics('', '')"
   ]
  }
 ],
 "metadata": {
  "kernelspec": {
   "display_name": "env",
   "language": "python",
   "name": "python3"
  },
  "language_info": {
   "codemirror_mode": {
    "name": "ipython",
    "version": 3
   },
   "file_extension": ".py",
   "mimetype": "text/x-python",
   "name": "python",
   "nbconvert_exporter": "python",
   "pygments_lexer": "ipython3",
   "version": "3.11.3"
  }
 },
 "nbformat": 4,
 "nbformat_minor": 2
}
